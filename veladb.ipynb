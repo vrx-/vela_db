{
 "cells": [
  {
   "cell_type": "code",
   "execution_count": 2,
   "id": "0a88c063",
   "metadata": {},
   "outputs": [],
   "source": [
    "import requests\n",
    "from requests.auth import HTTPBasicAuth\n",
    "import pandas as pd\n",
    "import pytz\n",
    "import ipywidgets as widgets\n",
    "import datetime\n",
    "import numpy as np"
   ]
  },
  {
   "cell_type": "code",
   "execution_count": 339,
   "id": "1554a18e",
   "metadata": {},
   "outputs": [],
   "source": [
    "def gen_url(\n",
    "    telemetry='min', BB3='min', CI='min', CT='min', O2='min',\n",
    "    start=datetime.datetime.now() - datetime.timedelta(days=30),\n",
    "    end=datetime.datetime.now()\n",
    "    ):\n",
    "\n",
    "    # Returns string for URL based on group variable selection and date\n",
    "\n",
    "    # Base strings and querry dictionaries\n",
    "    group_options = {\n",
    "    'telemetry': telemetry, \n",
    "    'BB3': BB3, \n",
    "    'CI': CI, \n",
    "    'CT': CT, \n",
    "    'O2': O2\n",
    "    }\n",
    "\n",
    "    querry = {\n",
    "    'telemetry': {\n",
    "    'all': ['GPSTimeStamp', '2CLon', '2CLat', '2CSpeed', '2CTrack', '2CHeading', '2CPitch', '2CRoll', '2CWindAppSpeed', '2CWindDegOffBow','2CWindTrueSpeed', '2CWindTrueDir', '2CPressureInches', '2CAirTemp'],\n",
    "    'min': ['GPSTimeStamp', '2CLon', '2CLat',],\n",
    "    'atmo': ['GPSTimeStamp', '2CLon', '2CLat', '2CPressureInches', '2CAirTemp', '2CWindAppSpeed', '2CWindDegOffBow', '2CWindTrueSpeed', '2CWindTrueDir',]\n",
    "    },\n",
    "    'BB3': {\n",
    "    'all': ['2CBB3+%5BTime+UTC%5D', '2CBb%28470%29+%5Bcounts%5D', '2CBb%28532%29+%5Bcounts%5D', '2CBb%28650%29+%5Bcounts%5D', '2CBb%28470%29+%5BNTU%5D', '2CBb%28532%29+%5BNTU%5D', '2CBb%28650%29+%5BNTU%5D'],\n",
    "    'min': ['2CBb%28470%29+%5BNTU%5D', '2CBb%28532%29+%5BNTU%5D','2CBb%28650%29+%5BNTU%5D']\n",
    "    },\n",
    "    'CI': {\n",
    "    'all': ['2CCI+%5BTime+UTC%5D', '2CChl.+a+%5Bcounts%5D', '2CCDOM+%5Bcounts%5D', '2CPhycocyanin+%5Bcounts%5D', '2CCDOM+%5BQSU%5D', '2CChl.+a+%5Bppb%5D', '2CPhycocyanin+%5Bppb%5D'],\n",
    "    'min': ['2CCDOM+%5BQSU%5D', '2CChl.+a+%5Bppb%5D', '2CPhycocyanin+%5Bppb%5D']\n",
    "    },\n",
    "    'CT': {\n",
    "    'all': ['2CCT+%5BTime+UTC%5D', '2CConductivity+%5BmS+cm-1%5D', '2CTemperature+%5Bdeg+C%5D'],\n",
    "    'min': ['2CConductivity+%5BmS+cm-1%5D', '2CTemperature+%5Bdeg+C%5D']\n",
    "    },\n",
    "    'O2' : {\n",
    "    'all': ['2CO2+%5BTime+UTC%5D', '2CO2+Concentration+%5Bmicromolar%5D', '2CO2+Saturation+%5B%25%5D', '2CO2+Temperature+%5Bdeg+C%5D'],\n",
    "    'min': ['2CO2+Concentration+%5Bmicromolar%5D', '2CO2+Saturation+%5B%25%5D']\n",
    "    }\n",
    "    }\n",
    "\n",
    "    time_dic = {'GPSTimeStamp': 'GPSTimeStamp', '2CBB3+%5BTime+UTC%5D': 'BB3 [Time UTC]', '2CCI+%5BTime+UTC%5D': 'CI [Time UTC]', '2CO2+%5BTime+UTC%5D': 'CT [Time UTC]'}\n",
    "\n",
    "    root_url = 'http://portal.navocean.com/services/nav.php?req=data&id=VELA'\n",
    "    fmtt = 'format=csv&output=file'\n",
    "\n",
    "    token= 'token=5e5c4d86-3fd9-11eb-904e-06ad0ec96835'\n",
    "\n",
    "\n",
    "    # build string for variable request\n",
    "    columns = []\n",
    "    for g in querry.keys():\n",
    "        if group_options[g]:\n",
    "            columns.extend(querry[g][group_options[g]])\n",
    "    columns = 'columns='+'%'.join(columns)\n",
    "\n",
    "    # build string for date request\n",
    "    start = dtodt(start)\n",
    "    start = start.astimezone(pytz.timezone('utc')).strftime('%Y-%m-%d+%H')\n",
    "    end = dtodt(end)\n",
    "    end = end.astimezone(pytz.timezone('utc')).strftime('%Y-%m-%d+%H')\n",
    "    time = 'start='+start+'%3A00%3A00&end='+end+'%3A00%3A00'\n",
    "    url = '&'.join([root_url, columns, fmtt, time, token]) #, date_vars\n",
    "\n",
    "    # get date type variables for parser\n",
    "    date_cols = []\n",
    "    for time_key in time_dic:\n",
    "        if time_key in url:\n",
    "            date_cols.append(time_dic[time_key])\n",
    "    return url, date_cols\n",
    "\n",
    "def load_csv(path, date_vars=False):\n",
    "    parse_dates = date_vars\n",
    "    date_parser=lambda x: pd.to_datetime(x, errors=\"coerce\")\n",
    "\n",
    "    return pd.read_csv(path, skipinitialspace=True, parse_dates=parse_dates, date_parser=date_parser,\n",
    "        index_col='Id').replace(r'^\\s*$', np.nan, regex=True)\n",
    "\n",
    "def get_data(path, date_vars=['GPSTimeStamp']):\n",
    "    # Output: dataframe:\n",
    "    # Input: either navocean url, or a lists of filenames\n",
    "    # Names of date type variables to parse\n",
    "    if type(path) is str:\n",
    "        if 'http' in path:\n",
    "            request = requests.get(path, auth=HTTPBasicAuth('okeechobee', 'cleanwater'), stream=True)\n",
    "            file = request.raw\n",
    "        else:\n",
    "            file = path\n",
    "        df = load_csv(file, date_vars=date_vars)\n",
    "\n",
    "    elif type(path) is list:\n",
    "        li = []\n",
    "        for f in path:\n",
    "            df = load_csv(f, date_vars=date_vars)\n",
    "            li.append(df)\n",
    "            df = pd.concat(li, axis=0, ignore_index=True)\n",
    "    df = df[~df['GPSTimeStamp'].isnull()]           \n",
    "    \n",
    "    df['local_time'] = df['GPSTimeStamp'].dt.tz_localize('utc').dt.tz_convert(pytz.timezone('US/Eastern'))\n",
    "#     df.set_index('GPSTimeStamp', inplace=True)\n",
    "    return df\n",
    "\n",
    "def dtodt(date):\n",
    "    if type(date) == datetime.date:\n",
    "        date = datetime.datetime(year=date.year, month=date.month, day=date.day)\n",
    "    return date\n"
   ]
  },
  {
   "cell_type": "markdown",
   "id": "046ed60d",
   "metadata": {},
   "source": [
    "# Select time frame for sailboat data "
   ]
  },
  {
   "cell_type": "code",
   "execution_count": 344,
   "id": "a1aae663",
   "metadata": {},
   "outputs": [
    {
     "data": {
      "application/vnd.jupyter.widget-view+json": {
       "model_id": "4e10bfb62867485397bea3af7526739a",
       "version_major": 2,
       "version_minor": 0
      },
      "text/plain": [
       "HBox(children=(DatePicker(value=datetime.datetime(2021, 12, 8, 23, 12, 38, 937527), description='Start date'),…"
      ]
     },
     "metadata": {},
     "output_type": "display_data"
    }
   ],
   "source": [
    "start = widgets.DatePicker(\n",
    "    description='Start date',\n",
    "    disabled=False,\n",
    "    value= datetime.datetime.now() - datetime.timedelta(days=30)\n",
    ")\n",
    "\n",
    "end = widgets.DatePicker(\n",
    "    description='End date',\n",
    "    disabled=False,\n",
    "    value=datetime.datetime.now()\n",
    ")\n",
    "\n",
    "\n",
    "ui = widgets.HBox([start, end])\n",
    "display(ui)\n",
    "\n",
    "def f(start, end):\n",
    "    df = get_data(gen_url(start=start, end=end)[0])\n",
    "    return df\n",
    "\n",
    "dfc = f(start.value, end.value)\n",
    "# out = widgets.interactive_output(f, {'start': start, 'end': end})"
   ]
  },
  {
   "cell_type": "code",
   "execution_count": 345,
   "id": "63d23ba2",
   "metadata": {},
   "outputs": [],
   "source": [
    "import plotly.express as px  # (version 4.7.0 or higher)\n",
    "import plotly.graph_objects as go"
   ]
  },
  {
   "cell_type": "markdown",
   "id": "9d49bdab",
   "metadata": {},
   "source": [
    "## Dataset"
   ]
  },
  {
   "cell_type": "code",
   "execution_count": 346,
   "id": "28357a85",
   "metadata": {},
   "outputs": [
    {
     "data": {
      "text/html": [
       "<div>\n",
       "<style scoped>\n",
       "    .dataframe tbody tr th:only-of-type {\n",
       "        vertical-align: middle;\n",
       "    }\n",
       "\n",
       "    .dataframe tbody tr th {\n",
       "        vertical-align: top;\n",
       "    }\n",
       "\n",
       "    .dataframe thead th {\n",
       "        text-align: right;\n",
       "    }\n",
       "</style>\n",
       "<table border=\"1\" class=\"dataframe\">\n",
       "  <thead>\n",
       "    <tr style=\"text-align: right;\">\n",
       "      <th></th>\n",
       "      <th>GPSTimeStamp</th>\n",
       "      <th>Lon</th>\n",
       "      <th>Lat</th>\n",
       "      <th>Conductivity [mS cm-1]</th>\n",
       "      <th>Temperature [deg C]</th>\n",
       "      <th>O2 Concentration [micromolar]</th>\n",
       "      <th>O2 Saturation [%]</th>\n",
       "      <th>Bb(470) [NTU]</th>\n",
       "      <th>Bb(532) [NTU]</th>\n",
       "      <th>Bb(650) [NTU]</th>\n",
       "      <th>CDOM [QSU]</th>\n",
       "      <th>Chl. a [ppb]</th>\n",
       "      <th>Phycocyanin [ppb]</th>\n",
       "      <th>local_time</th>\n",
       "    </tr>\n",
       "    <tr>\n",
       "      <th>Id</th>\n",
       "      <th></th>\n",
       "      <th></th>\n",
       "      <th></th>\n",
       "      <th></th>\n",
       "      <th></th>\n",
       "      <th></th>\n",
       "      <th></th>\n",
       "      <th></th>\n",
       "      <th></th>\n",
       "      <th></th>\n",
       "      <th></th>\n",
       "      <th></th>\n",
       "      <th></th>\n",
       "      <th></th>\n",
       "    </tr>\n",
       "  </thead>\n",
       "  <tbody>\n",
       "    <tr>\n",
       "      <th>427499</th>\n",
       "      <td>2022-01-01 19:47:34</td>\n",
       "      <td>-80.796425</td>\n",
       "      <td>27.222744</td>\n",
       "      <td>NaN</td>\n",
       "      <td>24.635</td>\n",
       "      <td>0.0</td>\n",
       "      <td>0.0</td>\n",
       "      <td>1.695</td>\n",
       "      <td>1.942</td>\n",
       "      <td>1.698</td>\n",
       "      <td>437.12</td>\n",
       "      <td>224.62</td>\n",
       "      <td>13.22</td>\n",
       "      <td>2022-01-01 14:47:34-05:00</td>\n",
       "    </tr>\n",
       "    <tr>\n",
       "      <th>427498</th>\n",
       "      <td>2022-01-01 19:47:03</td>\n",
       "      <td>-80.796432</td>\n",
       "      <td>27.222748</td>\n",
       "      <td>NaN</td>\n",
       "      <td>24.649</td>\n",
       "      <td>0.0</td>\n",
       "      <td>0.0</td>\n",
       "      <td>1.695</td>\n",
       "      <td>1.942</td>\n",
       "      <td>1.698</td>\n",
       "      <td>434.54</td>\n",
       "      <td>217.16</td>\n",
       "      <td>13.09</td>\n",
       "      <td>2022-01-01 14:47:03-05:00</td>\n",
       "    </tr>\n",
       "    <tr>\n",
       "      <th>427497</th>\n",
       "      <td>2022-01-01 19:45:18</td>\n",
       "      <td>-80.796425</td>\n",
       "      <td>27.222752</td>\n",
       "      <td>NaN</td>\n",
       "      <td>24.625</td>\n",
       "      <td>0.0</td>\n",
       "      <td>0.0</td>\n",
       "      <td>1.938</td>\n",
       "      <td>1.942</td>\n",
       "      <td>1.698</td>\n",
       "      <td>441.03</td>\n",
       "      <td>239.16</td>\n",
       "      <td>14.68</td>\n",
       "      <td>2022-01-01 14:45:18-05:00</td>\n",
       "    </tr>\n",
       "    <tr>\n",
       "      <th>427496</th>\n",
       "      <td>2022-01-01 19:43:29</td>\n",
       "      <td>-80.796417</td>\n",
       "      <td>27.222755</td>\n",
       "      <td>NaN</td>\n",
       "      <td>25.006</td>\n",
       "      <td>0.0</td>\n",
       "      <td>0.0</td>\n",
       "      <td>1.938</td>\n",
       "      <td>2.185</td>\n",
       "      <td>1.941</td>\n",
       "      <td>437.71</td>\n",
       "      <td>246.11</td>\n",
       "      <td>15.79</td>\n",
       "      <td>2022-01-01 14:43:29-05:00</td>\n",
       "    </tr>\n",
       "    <tr>\n",
       "      <th>427495</th>\n",
       "      <td>2022-01-01 19:42:58</td>\n",
       "      <td>-80.796440</td>\n",
       "      <td>27.222755</td>\n",
       "      <td>NaN</td>\n",
       "      <td>25.072</td>\n",
       "      <td>0.0</td>\n",
       "      <td>0.0</td>\n",
       "      <td>1.695</td>\n",
       "      <td>1.942</td>\n",
       "      <td>1.698</td>\n",
       "      <td>433.28</td>\n",
       "      <td>185.90</td>\n",
       "      <td>16.10</td>\n",
       "      <td>2022-01-01 14:42:58-05:00</td>\n",
       "    </tr>\n",
       "  </tbody>\n",
       "</table>\n",
       "</div>"
      ],
      "text/plain": [
       "              GPSTimeStamp        Lon        Lat  Conductivity [mS cm-1]  \\\n",
       "Id                                                                         \n",
       "427499 2022-01-01 19:47:34 -80.796425  27.222744                     NaN   \n",
       "427498 2022-01-01 19:47:03 -80.796432  27.222748                     NaN   \n",
       "427497 2022-01-01 19:45:18 -80.796425  27.222752                     NaN   \n",
       "427496 2022-01-01 19:43:29 -80.796417  27.222755                     NaN   \n",
       "427495 2022-01-01 19:42:58 -80.796440  27.222755                     NaN   \n",
       "\n",
       "        Temperature [deg C]  O2 Concentration [micromolar]  O2 Saturation [%]  \\\n",
       "Id                                                                              \n",
       "427499               24.635                            0.0                0.0   \n",
       "427498               24.649                            0.0                0.0   \n",
       "427497               24.625                            0.0                0.0   \n",
       "427496               25.006                            0.0                0.0   \n",
       "427495               25.072                            0.0                0.0   \n",
       "\n",
       "        Bb(470) [NTU]  Bb(532) [NTU]  Bb(650) [NTU]  CDOM [QSU]  Chl. a [ppb]  \\\n",
       "Id                                                                              \n",
       "427499          1.695          1.942          1.698      437.12        224.62   \n",
       "427498          1.695          1.942          1.698      434.54        217.16   \n",
       "427497          1.938          1.942          1.698      441.03        239.16   \n",
       "427496          1.938          2.185          1.941      437.71        246.11   \n",
       "427495          1.695          1.942          1.698      433.28        185.90   \n",
       "\n",
       "        Phycocyanin [ppb]                local_time  \n",
       "Id                                                   \n",
       "427499              13.22 2022-01-01 14:47:34-05:00  \n",
       "427498              13.09 2022-01-01 14:47:03-05:00  \n",
       "427497              14.68 2022-01-01 14:45:18-05:00  \n",
       "427496              15.79 2022-01-01 14:43:29-05:00  \n",
       "427495              16.10 2022-01-01 14:42:58-05:00  "
      ]
     },
     "execution_count": 346,
     "metadata": {},
     "output_type": "execute_result"
    }
   ],
   "source": [
    "#QC\n",
    "df = dfc.copy()\n",
    "df = df[(df['Lon']>-81.15)&(df['Lon']<-80.51)]\n",
    "df = df[(df['Lat']<27.24)&(df['Lat']>26.65)]\n",
    "df = df[df['Lon'].notna()]\n",
    "df = df[df['Lat'].notna()]\n",
    "df = df[df['GPSTimeStamp'].notnull()]\n",
    "df = df[~df['local_time'].isnull()]\n",
    "\n",
    "# df[df[df.columns[2:-1]]<0] = np.nan\n",
    "df.loc[df['Conductivity [mS cm-1]']<0.2, 'Conductivity [mS cm-1]']=np.nan\n",
    "df.loc[df['Conductivity [mS cm-1]']>.5, 'Conductivity [mS cm-1]']=np.nan\n",
    "df.loc[df['Temperature [deg C]']>40., 'Temperature [deg C]']=np.nan\n",
    "df.loc[df['Temperature [deg C]']<5., 'Temperature [deg C]']=np.nan\n",
    "\n",
    "df.head(5)"
   ]
  },
  {
   "cell_type": "code",
   "execution_count": 156,
   "id": "a4332627",
   "metadata": {},
   "outputs": [],
   "source": [
    "def tsplot(y):\n",
    "    fig = px.line(df, x='local_time', y=y)\n",
    "    fig.show()\n",
    "\n",
    "def scplot(x,y,c):\n",
    "    fig = px.scatter(df, x=x, y=y, color=c)\n",
    "    fig.show()\n",
    "    \n"
   ]
  },
  {
   "cell_type": "markdown",
   "id": "68ae16c0",
   "metadata": {},
   "source": [
    "# Time series"
   ]
  },
  {
   "cell_type": "code",
   "execution_count": 214,
   "id": "793dd26d",
   "metadata": {},
   "outputs": [
    {
     "data": {
      "application/vnd.jupyter.widget-view+json": {
       "model_id": "e0de2aca7a8642f0bc9295f7093b5d50",
       "version_major": 2,
       "version_minor": 0
      },
      "text/plain": [
       "interactive(children=(Dropdown(description='y', options=('Conductivity [mS cm-1]', 'Temperature [deg C]', 'O2 …"
      ]
     },
     "metadata": {},
     "output_type": "display_data"
    }
   ],
   "source": [
    "interactive_plot = widgets.interactive(tsplot, y=df.columns[3:-1])\n",
    "interactive_plot"
   ]
  },
  {
   "cell_type": "markdown",
   "id": "953d4d20",
   "metadata": {},
   "source": [
    "# Scatter plot"
   ]
  },
  {
   "cell_type": "code",
   "execution_count": 342,
   "id": "7715859e",
   "metadata": {},
   "outputs": [
    {
     "data": {
      "application/vnd.jupyter.widget-view+json": {
       "model_id": "0443c496d41c4cf2a4b81d1fad44324d",
       "version_major": 2,
       "version_minor": 0
      },
      "text/plain": [
       "interactive(children=(Dropdown(description='x axis', index=8, options=('Conductivity [mS cm-1]', 'Temperature …"
      ]
     },
     "metadata": {},
     "output_type": "display_data"
    }
   ],
   "source": [
    "x = widgets.Dropdown(options=df.columns[3:-1], value='Chl. a [ppb]', description='x axis')\n",
    "y = widgets.Dropdown(options=df.columns[3:-1], value='Phycocyanin [ppb]', description='y axis')\n",
    "c = widgets.Dropdown(options=df.columns[3:-1], value='Bb(470) [NTU]', description='color')\n",
    "\n",
    "out = widgets.interactive(scplot, x=x, y=y, c=c)\n",
    "display(out)"
   ]
  },
  {
   "cell_type": "code",
   "execution_count": 195,
   "id": "cef6a045",
   "metadata": {},
   "outputs": [
    {
     "data": {
      "text/plain": [
       "Index(['GPSTimeStamp', 'Lon', 'Lat', 'Conductivity [mS cm-1]',\n",
       "       'Temperature [deg C]', 'O2 Concentration [micromolar]',\n",
       "       'O2 Saturation [%]', 'Bb(470) [NTU]', 'Bb(532) [NTU]', 'Bb(650) [NTU]',\n",
       "       'CDOM [QSU]', 'Chl. a [ppb]', 'Phycocyanin [ppb]', 'local_time'],\n",
       "      dtype='object')"
      ]
     },
     "execution_count": 195,
     "metadata": {},
     "output_type": "execute_result"
    }
   ],
   "source": [
    "dfc.columns"
   ]
  },
  {
   "cell_type": "markdown",
   "id": "32c55cb6",
   "metadata": {},
   "source": [
    "# Path plot"
   ]
  },
  {
   "cell_type": "code",
   "execution_count": 352,
   "id": "9838fa03",
   "metadata": {},
   "outputs": [
    {
     "data": {
      "text/plain": [
       "numpy.datetime64('2022-01-01T19:47:34.000000000')"
      ]
     },
     "execution_count": 352,
     "metadata": {},
     "output_type": "execute_result"
    }
   ],
   "source": [
    "df['local_time'].values[0]"
   ]
  },
  {
   "cell_type": "code",
   "execution_count": 368,
   "id": "ac914a9a",
   "metadata": {},
   "outputs": [
    {
     "data": {
      "application/vnd.jupyter.widget-view+json": {
       "model_id": "efab4a48ce2f4e1b9739ea52b66d1a01",
       "version_major": 2,
       "version_minor": 0
      },
      "text/plain": [
       "Output()"
      ]
     },
     "metadata": {},
     "output_type": "display_data"
    }
   ],
   "source": [
    "varchoice = widgets.Dropdown(options=df.columns[3:-1], value='Chl. a [ppb]', description='Variable')\n",
    "varchoice\n",
    "\n",
    "dates = pd.date_range(df['local_time'].values[-1], df['local_time'].values[0], freq='D')\n",
    "options = [(date.strftime(' %d/%b/%Y '), date) for date in dates]\n",
    "index = (0, len(options)-1)\n",
    "\n",
    "selection_range_slider = widgets.SelectionRangeSlider(\n",
    "    options=options,\n",
    "    index=index,\n",
    "    description='Date range',\n",
    "    orientation='horizontal',\n",
    "    layout={'width': '600px'}\n",
    ")\n",
    "selection_range_slider\n",
    "\n",
    "# interactive_plot = widgets.interactive(pathplot, )\n",
    "\n",
    "out = widgets.interactive_output(pathplot, {'var': varchoice, 'date_range': selection_range_slider})\n",
    "out\n",
    "# interactive_plot"
   ]
  },
  {
   "cell_type": "code",
   "execution_count": 367,
   "id": "d9732e77",
   "metadata": {},
   "outputs": [],
   "source": [
    "def pathplot(var, date_range):\n",
    "    range_dic = {\n",
    "    'Conductivity [mS cm-1]':{'min':0.2, 'max':.5},\n",
    "    'Temperature [deg C]':{'min':5., 'max':40.},\n",
    "    'O2 Concentration [micromolar]':{'min':0, 'max':200},\n",
    "    'O2 Saturation [%]':{'min':0, 'max':300},\n",
    "    'Bb(470) [NTU]':{'min':0, 'max':1000}, \n",
    "    'Bb(532) [NTU]':{'min':0, 'max':1000},\n",
    "    'Bb(650) [NTU]':{'min':0, 'max':1000},\n",
    "    'CDOM [QSU]':{'min':0, 'max':100},\n",
    "    'Chl. a [ppb]':{'min':0, 'max':100}, \n",
    "    'Phycocyanin [ppb]':{'min':0, 'max':100}\n",
    "    }\n",
    "    \n",
    "    df = df[df['local_time']>date_range.values[0]]\n",
    "    df = df[df['local_time']<date_range.values[1]]\n",
    "    fig = px.scatter_mapbox(df, lat=\"Lat\", lon=\"Lon\",\n",
    "                            color=var, range_color=[range_dic[var]['min'],range_dic[var]['max']],\n",
    "                            hover_name=var,\n",
    "    #                         color_discrete_sequence=[\"fuchsia\"], \n",
    "                            zoom=10,\n",
    "                            center={'lat':26.95, 'lon':-80.84},\n",
    "                            height=850,\n",
    "                           width=850,\n",
    "                           )\n",
    "    fig.update_layout(\n",
    "        mapbox_style=\"white-bg\",\n",
    "        mapbox_layers=[\n",
    "            {\n",
    "                \"below\": 'traces',\n",
    "                \"sourcetype\": \"raster\",\n",
    "                \"sourceattribution\": \"United States Geological Survey\",\n",
    "                \"source\": [\n",
    "                    \"https://basemap.nationalmap.gov/arcgis/rest/services/USGSImageryOnly/MapServer/tile/{z}/{y}/{x}\"\n",
    "                ]\n",
    "            },\n",
    "\n",
    "          ])\n",
    "    fig.update_layout(margin={\"r\":0,\"t\":0,\"l\":0,\"b\":0})\n",
    "    fig.show()"
   ]
  },
  {
   "cell_type": "code",
   "execution_count": 357,
   "id": "5f200224",
   "metadata": {},
   "outputs": [
    {
     "data": {
      "text/plain": [
       "numpy.datetime64('2021-12-21T11:11:50.000000000')"
      ]
     },
     "execution_count": 357,
     "metadata": {},
     "output_type": "execute_result"
    }
   ],
   "source": [
    "end_date"
   ]
  },
  {
   "cell_type": "code",
   "execution_count": null,
   "id": "f6c8fb32",
   "metadata": {},
   "outputs": [],
   "source": []
  }
 ],
 "metadata": {
  "kernelspec": {
   "display_name": "Python 3 (ipykernel)",
   "language": "python",
   "name": "python3"
  },
  "language_info": {
   "codemirror_mode": {
    "name": "ipython",
    "version": 3
   },
   "file_extension": ".py",
   "mimetype": "text/x-python",
   "name": "python",
   "nbconvert_exporter": "python",
   "pygments_lexer": "ipython3",
   "version": "3.8.12"
  }
 },
 "nbformat": 4,
 "nbformat_minor": 5
}
